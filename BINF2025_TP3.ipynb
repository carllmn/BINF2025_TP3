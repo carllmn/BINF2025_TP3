{
 "cells": [
  {
   "cell_type": "markdown",
   "metadata": {
    "id": "V09wQ1WIOmgn"
   },
   "source": [
    "# BINF TP3 - Algorithmes d'alignement par paire"
   ]
  },
  {
   "cell_type": "markdown",
   "metadata": {
    "id": "er6CtAyOxC6F"
   },
   "source": [
    "Dans ce TP nous allons manipuler les algorithmes d'alignement par paire."
   ]
  },
  {
   "cell_type": "markdown",
   "metadata": {
    "id": "BqEa3BJ1xICM"
   },
   "source": [
    "# Exercice 0 - Echauffement"
   ]
  },
  {
   "cell_type": "markdown",
   "metadata": {
    "id": "qqiiq5bcxYvM"
   },
   "source": [
    "Q1. Donnez le score de la superposition :\n",
    "\n",
    "|       |       |\n",
    "| :---: | :---: |\n",
    "x       | ATGTCATGA---TAC |\n",
    "y       | AT--CTAAATGTTAC |\n",
    "\n",
    "\n",
    "étant donne le schéma d'évaluation :\n",
    "\n",
    "|       | A     | T     | G     | C     |\n",
    "| :---: | :---: | :---: | :---: | :---: |\n",
    "| **A** | 1     | -1    | -1    | -1    |\n",
    "| **T** | -1    | 1     | -1    | -1    |\n",
    "| **G** | -1    | -1    | 1     | -1    |\n",
    "| **C** | -1    | -1    | -1    | 1     |\n",
    "\n",
    "et\n",
    "\n",
    "$\\gamma(g) = 0.5 |g| + 0.5$"
   ]
  },
  {
   "cell_type": "markdown",
   "metadata": {
    "id": "kCJGGGYQ2GNi"
   },
   "source": [
    "```markdown\n",
    "Le score de la superposition est 1+1-1.5-1.5+1-1-1-1+1-1.5-1.5-1.5+1+1+1=-3.5\n",
    "```"
   ]
  },
  {
   "cell_type": "markdown",
   "metadata": {
    "id": "XyhXAhK-2NKJ"
   },
   "source": [
    "Q2. Alignez les séquences suivantes avec l'algorithme de Levenshtein :  x = ATG et y = ACTG."
   ]
  },
  {
   "cell_type": "markdown",
   "metadata": {
    "id": "b9iovhyZ2bXw"
   },
   "source": [
    "```markdown\n",
    "La distance de Levenshtein entre les séquences x=ATG et y=ACTG est 1.\n",
    "```"
   ]
  },
  {
   "cell_type": "markdown",
   "metadata": {
    "id": "OV_YaQHr2elB"
   },
   "source": [
    "Q3.\tAlignez les séquences suivantes avec l'algorithme de Needleman-Wunsch global x = TAT et y = ATGAC en considérant le schéma d'évaluation suivant\n",
    "\n",
    "|       | A       | T       | G       | C     |\n",
    "| :---: | :---:   | :---:   | :---:   | :---: |\n",
    "| **A** | 1       | -0.5    | -0.5    | -0.5  |\n",
    "| **T** | -0.5    | 1       | -0.5    | -0.5  |\n",
    "| **G** | -0.5    | -0.5    | 1       | -0.5  |\n",
    "| **C** | -0.5    | -0.5    | -0.5    | 1     |\n",
    "\n",
    "et\n",
    "\n",
    "$\\gamma(g) = 0.5 |g|$\n"
   ]
  },
  {
   "cell_type": "markdown",
   "metadata": {
    "id": "g_MrecVs3Nrw"
   },
   "source": [
    "```markdown\n",
    "Le score d'alignement entre les séquences x=TAT et y=ATGAC est 4.\n",
    "```"
   ]
  },
  {
   "cell_type": "markdown",
   "metadata": {
    "id": "y1YF-G6E3Qoo"
   },
   "source": [
    "Q4. Alignez les séquences suivantes avec l'algorithme de Smith-Waterman x = TTGG y = ATGAC en utilisant le schéma d'évaluation de la question précédente.\n"
   ]
  },
  {
   "cell_type": "markdown",
   "metadata": {
    "id": "LLMECocb3pgI"
   },
   "source": [
    "```markdown\n",
    "Le score d'alignement entre les séquences x=TTGG et y=ATGAC est 2.\n",
    "```"
   ]
  },
  {
   "cell_type": "markdown",
   "metadata": {
    "id": "46gw0avh3wGw"
   },
   "source": [
    "# Exercice 1 : Algorithme de Levenshtein - version récursive"
   ]
  },
  {
   "cell_type": "markdown",
   "metadata": {
    "id": "ZKc09Kyg4a6v"
   },
   "source": [
    "Q1. Ecrivez une fonction\n",
    "\n",
    "levenshtein(x: str, y: str) -> int\n",
    "\n",
    "qui retourne la distance de Levenshtein entre les séquences x et y en utilisant la  version récursive de l'algorithme."
   ]
  },
  {
   "cell_type": "code",
   "execution_count": 7,
   "metadata": {
    "id": "FJR69IEQ4aHv"
   },
   "outputs": [
    {
     "name": "stdout",
     "output_type": "stream",
     "text": [
      "2 3 7\n"
     ]
    }
   ],
   "source": [
    "def levenshtein(x: str, y: str) -> int:\n",
    "    if not x:\n",
    "        return len(y)\n",
    "    if not y:\n",
    "        return len(x)\n",
    "    if x[-1] == y[-1]:\n",
    "        cost = 0\n",
    "    else:\n",
    "        cost = 1\n",
    "    return min(levenshtein(x[:-1], y) + 1,levenshtein(x, y[:-1]) + 1,levenshtein(x[:-1], y[:-1]) + cost)\n",
    "\n",
    "print(levenshtein(\"𝐶𝐶𝐴𝐺\",\"𝐶𝐴\"),\n",
    "levenshtein(\"𝐶𝐶𝐺𝑇\",\"𝐶𝐺𝑇𝐶𝐴\"),\n",
    "levenshtein(\"𝐴𝑌678264∗\",\"𝑂𝑄870305∗\"))"
   ]
  },
  {
   "cell_type": "markdown",
   "metadata": {
    "id": "arFVwA6E5NWn"
   },
   "source": [
    "Q2. Vous pouvez tester votre code sur les exemples suivants:\n",
    "\n",
    "\n",
    "*   $L('CCAG', 'CA') = 2$\n",
    "*   $L('CCGT', 'CGTCA') = 3$\n",
    "*   $L(AY678264^*, OQ870305^*) = 310$\n",
    "\n",
    "$^*$ ids genbank de deux sequences."
   ]
  },
  {
   "cell_type": "markdown",
   "metadata": {
    "id": "erCpfG7O7BV-"
   },
   "source": [
    "# Exercice 2 : Algorithme de Smith-Waterman - version itérative"
   ]
  },
  {
   "cell_type": "markdown",
   "metadata": {
    "id": "rv2Y78y37IOd"
   },
   "source": [
    "Q1. Ecrivez la fonction\n",
    "\n",
    "sw_fwd(x: str, y: str, cmap: dict, sigma: array, (go, ge): list) -> (array, array)\n",
    "\n",
    "qui construit les matrices $S$ et $B$ en utilisant l'algorithme de Smith-Waterman pour aligner les séquences x et y suivant le schéma d'évaluation donné par la matrice de substitution $\\Sigma$ et la fonction d'évaluation des trous $\\gamma(n)= g_o + g_e \\times n$. Le dictionnaire cmap donne la position des différents nucléotides dans la matrice $\\Sigma$. La fonction retourne la paire de matrices de score $S$ et de retour $B$."
   ]
  },
  {
   "cell_type": "code",
   "execution_count": 12,
   "metadata": {
    "id": "njn3JB0b-WHj"
   },
   "outputs": [],
   "source": [
    "import numpy as np\n",
    "\n",
    "def sw_fwd(x: str, y: str, cmap: dict, sigma: np.ndarray, go:float,ge:float) -> (np.ndarray, np.ndarray):\n",
    "    m, n = len(x), len(y)\n",
    "    S = np.zeros((m + 1, n + 1), dtype=float)\n",
    "    B = np.zeros((m + 1, n + 1), dtype=int)\n",
    "\n",
    "    max_score = 0\n",
    "\n",
    "    for i in range(1, m + 1):\n",
    "        for j in range(1, n + 1):\n",
    "            match = S[i - 1][j - 1] + sigma[cmap[x[i - 1]]][cmap[y[j - 1]]]\n",
    "            delete = max([S[i - k][j] - (go + ge * k) for k in range(1, i + 1)])\n",
    "            insert = max([S[i][j - l] - (go + ge * l) for l in range(1, j + 1)])\n",
    "            S[i][j] = max(0, match, delete, insert)\n",
    "            if S[i][j] == 0:\n",
    "                B[i][j] = 0\n",
    "            elif S[i][j] == match:\n",
    "                B[i][j] = 1\n",
    "            elif S[i][j] == delete:\n",
    "                B[i][j] = 2\n",
    "            else:\n",
    "                B[i][j] = 3\n",
    "            if S[i][j] > max_score:\n",
    "                max_score = S[i][j]\n",
    "                max_pos = (i, j)\n",
    "    return S, B, max_pos\n"
   ]
  },
  {
   "cell_type": "markdown",
   "metadata": {
    "id": "55n8mt9U-Wai"
   },
   "source": [
    "Q2. Ecrivez la fonction\n",
    "\n",
    "sw_bwd(x: str, y: str, S: array, B: array) -> (str, str, float)\n",
    "\n",
    "qui effectue l'etape de retour de l'algorithme de Smith-Waterman etant donné les séquences $x$ et $y$ et les matrices de score $S$ et de retour $B$. La fonction retourne un tuple contenant les alignements des séquences x et y et le score de l'alignement."
   ]
  },
  {
   "cell_type": "code",
   "execution_count": 18,
   "metadata": {
    "id": "ij9JDpBm_UZ7"
   },
   "outputs": [],
   "source": [
    "def sw_bwd(x: str, y: str, S: np.ndarray, B: np.ndarray) -> (str, str, float):\n",
    "    max_score = np.max(S)\n",
    "    max_pos = np.unravel_index(np.argmax(S, axis=None), S.shape)\n",
    "    i, j = max_pos\n",
    "    align_x, align_y = [], []\n",
    "    score = S[i][j]\n",
    "    while i > 0 and j > 0 and B[i][j] != 0:\n",
    "        if B[i][j] == 1:\n",
    "            align_x.append(x[i - 1])\n",
    "            align_y.append(y[j - 1])\n",
    "            i -= 1\n",
    "            j -= 1\n",
    "        elif B[i][j] == 2:\n",
    "            align_x.append(x[i - 1])\n",
    "            align_y.append('-')\n",
    "            i -= 1\n",
    "        elif B[i][j] == 3:\n",
    "            align_x.append('-')\n",
    "            align_y.append(y[j - 1])\n",
    "            j -= 1\n",
    "    align_x.reverse()\n",
    "    align_y.reverse()\n",
    "    return ''.join(align_x), ''.join(align_y), score\n"
   ]
  },
  {
   "cell_type": "markdown",
   "metadata": {
    "id": "kwmxg2dxAiwS"
   },
   "source": [
    "Q3. Vous pouvez tester votre code en utilisant le schéma d'évaluation suivant :"
   ]
  },
  {
   "cell_type": "code",
   "execution_count": 24,
   "metadata": {
    "id": "JUtYRFTBAwwZ"
   },
   "outputs": [
    {
     "name": "stdout",
     "output_type": "stream",
     "text": [
      "('TCG', 'TAG', 1.5) (3, 5)\n"
     ]
    }
   ],
   "source": [
    "cmap = {\"A\": 0, \"T\": 1, \"G\": 2, \"C\": 3}\n",
    "m = np.array([[1, -0.5, -0.5, -0.5],\n",
    "              [-0.5, 1, -0.5, -0.5],\n",
    "              [-0.5, -0.5, 1, -0.5],\n",
    "              [-0.5, -0.5, -0.5, 1]])\n",
    "go = 0\n",
    "ge = 0.5\n",
    "S,B,max_pos =sw_fwd(\"TCGC\",\"CTTAG\",cmap,m,go,ge)\n",
    "print(sw_bwd(\"TCGC\",\"CTTAG\",S,B),max_pos)"
   ]
  },
  {
   "cell_type": "markdown",
   "metadata": {
    "id": "eMGh4K5aIFxE"
   },
   "source": [
    "*   $SW('TCGC', 'CTTAG')$ retourne un score de $1.5$ à la position $(3,5)$ et l'alignement"
   ]
  },
  {
   "cell_type": "code",
   "execution_count": 16,
   "metadata": {
    "colab": {
     "base_uri": "https://localhost:8080/",
     "height": 60
    },
    "id": "joHNwJ9AIf6F",
    "outputId": "a9206810-a083-4d86-8b14-38183f1dd80c"
   },
   "outputs": [
    {
     "data": {
      "text/html": [
       "<table align='left' style='font-family:Courier New'><tr><th>x:</th><th>TCG</th></tr><tr><th>y:</th><th>TAG</th></tr></table>"
      ],
      "text/plain": [
       "<IPython.core.display.HTML object>"
      ]
     },
     "execution_count": 16,
     "metadata": {},
     "output_type": "execute_result"
    }
   ],
   "source": [
    "from IPython.display import HTML\n",
    "HTML(\"<table align='left' style='font-family:Courier New'><tr><th>x:</th><th>TCG</th></tr><tr><th>y:</th><th>TAG</th></tr></table>\")"
   ]
  },
  {
   "cell_type": "markdown",
   "metadata": {
    "id": "JJlU5yvZI43D"
   },
   "source": [
    "*   $SW(AY678264^*, OQ870305^*)$ retourne un score de $342.1$ à la position $(708,717)$ et l'alignement"
   ]
  },
  {
   "cell_type": "code",
   "execution_count": 15,
   "metadata": {
    "colab": {
     "base_uri": "https://localhost:8080/",
     "height": 80
    },
    "id": "HUELvWKMFtIO",
    "outputId": "976bab6f-f1fc-4c5a-c69c-8de02fc838d0"
   },
   "outputs": [
    {
     "data": {
      "text/html": [
       "<table width='300px' align='left' style='font-family:Courier New'><tr><th>x:</th><th nowrap='nowrap'>ATGGTGAGCAAGGGCGAGGAGGATAACATGGCCATCATCAAGGAGTTCATGCGCTTCAAGGTGC-A-CATGGAGGGCTCCGTGAACGGCCACGAGTTCGAGATCGAG---GGCGAGGGCGAGGGC--CGCC-CCTACGAGGGCACCCAGACCGC-CAAGCTGAAGGTG-ACCA-AGG---G-TGGCC---CCCT-GCCCTTCGCCT-GGGA-CATCCTGTCC--C--C-T-CAGTTCATGT-A-CGGCT-CCAAGGCCTACGTG-A--AGCAC--C--C--C--G-CCGACATCCCCG-A--CTAC-T--TGAAGCTG-TCCTTC--C--C-----CGA-GG--GCTTCAAGTGGGAGCG-CGTGATGAACTTCGAGGACGGCGGCGTGGTG-ACCG--T-GA-C-CCAGGAC-TC--CTCCCTGCAGGACGGCGAGTTCATCTACAAGGTG---AAGCTGCGCGGCACCAACTTCCCCT-CCGACGGCCCCGTA-ATGCA-GAAGAAGACCATGGGCTG--GGA-GGCCTCCTCCGAGCGGATGTACCCCGAGGA-CGGCGCC-CTGAAGGGCGAGATCAAGCAGA-GGCTGAAGC-TGAAGGACGGCGGCCACTACGACGCTGAGGTCAAGACCACCTACA-AGGCCAAGAAG-CCCGTGCAGCTGCCCGGC-GCCTACAACGTCAACATCAAGT-TG----GA-CATCACCTCCCACAACGAGGA-CTAC-A-C-CA---T-C-G-TGGAACAGTACG-AACGCGCCGAGGGCCGCCACTCCAC-CGGCGGCATGGACGAGCTGTACAAG</th></tr><tr><th>y:</th><th>ATGGTGAGCAAGGGCGAGGA-G----C-T-G--TTCA-C-CGG-GGTGGTGCCCATCCTGGT-CGAGC-TGGACGGCGACGTAAACGGCCACAAGTTC-AG--CGTGTCCGGCGAGGGCGAGGGCGATGCCACCTAC---GGCAAGCTGACC-CTGAAG-TTCATTTGCACCACCGGCAAGCTGCCCGTGCCCTGGCCC-AC-CCTCGTGACCACCCTGACCTACGGCGTGCAGTGC-T-TCAGCCGCTACCCCGACC-ACATGAAGCAGCACGACTTCTTCAAGTCCGCCATGCCCGAAGGCTACGTCCAGGAGC-GCACCATCTTCTTCAAGGACGACGGCAACTACAAGA-CCCGCGCCGAGGTGAAGTTCGAGGGCGACACCCTGGTGAACCGCATCGAGCTGAAGGGCATCGACTTCAAGGAGGACGGC-A--ACATC--C-TGGGGCACAAGCTG-G-AGTA-CAACTACAACAGCC-ACAACGTC-TATAT-CATG--GCCGA-CAA--GCAGAAGAACGG-CA--T-C-A-AGG-TGAACTTC-AAGATC--CGCCAC--AA---C---ATCGAG--GACGGC---AGCGTGCAGCTCGCCGACCACTACCA-GC--A-G--AACACC-CC--CATCGGCGACG--GCCCCGTGCTGCTGCCCGACAACC-ACTACCTGAGCACCCAGTCCGCCCTGAGCAA-A-GACCC-CAACGAGAAGC-GCGATCACATGGTCCTGCTGG---AGTTCGTGAC-CGCC----GCCGGGA-T-CACTC-TCGGCATGGACGAGCTGTACAAG</th></tr></table>"
      ],
      "text/plain": [
       "<IPython.core.display.HTML object>"
      ]
     },
     "execution_count": 15,
     "metadata": {},
     "output_type": "execute_result"
    }
   ],
   "source": [
    "from IPython.display import HTML\n",
    "HTML(\"<table width='300px' align='left' style='font-family:Courier New'><tr><th>x:</th><th nowrap='nowrap'>ATGGTGAGCAAGGGCGAGGAGGATAACATGGCCATCATCAAGGAGTTCATGCGCTTCAAGGTGC-A-CATGGAGGGCTCCGTGAACGGCCACGAGTTCGAGATCGAG---GGCGAGGGCGAGGGC--CGCC-CCTACGAGGGCACCCAGACCGC-CAAGCTGAAGGTG-ACCA-AGG---G-TGGCC---CCCT-GCCCTTCGCCT-GGGA-CATCCTGTCC--C--C-T-CAGTTCATGT-A-CGGCT-CCAAGGCCTACGTG-A--AGCAC--C--C--C--G-CCGACATCCCCG-A--CTAC-T--TGAAGCTG-TCCTTC--C--C-----CGA-GG--GCTTCAAGTGGGAGCG-CGTGATGAACTTCGAGGACGGCGGCGTGGTG-ACCG--T-GA-C-CCAGGAC-TC--CTCCCTGCAGGACGGCGAGTTCATCTACAAGGTG---AAGCTGCGCGGCACCAACTTCCCCT-CCGACGGCCCCGTA-ATGCA-GAAGAAGACCATGGGCTG--GGA-GGCCTCCTCCGAGCGGATGTACCCCGAGGA-CGGCGCC-CTGAAGGGCGAGATCAAGCAGA-GGCTGAAGC-TGAAGGACGGCGGCCACTACGACGCTGAGGTCAAGACCACCTACA-AGGCCAAGAAG-CCCGTGCAGCTGCCCGGC-GCCTACAACGTCAACATCAAGT-TG----GA-CATCACCTCCCACAACGAGGA-CTAC-A-C-CA---T-C-G-TGGAACAGTACG-AACGCGCCGAGGGCCGCCACTCCAC-CGGCGGCATGGACGAGCTGTACAAG</th></tr><tr><th>y:</th><th>ATGGTGAGCAAGGGCGAGGA-G----C-T-G--TTCA-C-CGG-GGTGGTGCCCATCCTGGT-CGAGC-TGGACGGCGACGTAAACGGCCACAAGTTC-AG--CGTGTCCGGCGAGGGCGAGGGCGATGCCACCTAC---GGCAAGCTGACC-CTGAAG-TTCATTTGCACCACCGGCAAGCTGCCCGTGCCCTGGCCC-AC-CCTCGTGACCACCCTGACCTACGGCGTGCAGTGC-T-TCAGCCGCTACCCCGACC-ACATGAAGCAGCACGACTTCTTCAAGTCCGCCATGCCCGAAGGCTACGTCCAGGAGC-GCACCATCTTCTTCAAGGACGACGGCAACTACAAGA-CCCGCGCCGAGGTGAAGTTCGAGGGCGACACCCTGGTGAACCGCATCGAGCTGAAGGGCATCGACTTCAAGGAGGACGGC-A--ACATC--C-TGGGGCACAAGCTG-G-AGTA-CAACTACAACAGCC-ACAACGTC-TATAT-CATG--GCCGA-CAA--GCAGAAGAACGG-CA--T-C-A-AGG-TGAACTTC-AAGATC--CGCCAC--AA---C---ATCGAG--GACGGC---AGCGTGCAGCTCGCCGACCACTACCA-GC--A-G--AACACC-CC--CATCGGCGACG--GCCCCGTGCTGCTGCCCGACAACC-ACTACCTGAGCACCCAGTCCGCCCTGAGCAA-A-GACCC-CAACGAGAAGC-GCGATCACATGGTCCTGCTGG---AGTTCGTGAC-CGCC----GCCGGGA-T-CACTC-TCGGCATGGACGAGCTGTACAAG</th></tr></table>\")"
   ]
  },
  {
   "cell_type": "markdown",
   "metadata": {
    "id": "Q5jVeLfgMMtA"
   },
   "source": [
    "# Exercice 3 : Distribution des scores d’alignement pour des séquences aléatoires\n",
    "\n",
    "Pour tester si un alignement reflète une réelle similarité biologique, on va évaluer la distribution des scores d’alignement pour des paires de séquences aléatoires."
   ]
  },
  {
   "cell_type": "markdown",
   "metadata": {
    "id": "6xyXw0HsMQGf"
   },
   "source": [
    "Q1. En considérant deux séquences aléatoires de même taille N, où chaque nucléotide apparaît avec une probabilité uniforme de ¼, calculer le score moyen attendu pour une superposition sans trou dans le cas où une identité vaut +1 et une différence vaut 0."
   ]
  },
  {
   "cell_type": "markdown",
   "metadata": {
    "id": "meF18gt-Mhcn"
   },
   "source": [
    "```markdown\n",
    "Pour avoir 1 il faut soit A,A;T,T;C,C;G,G, et P(A,A)=P(T,T)=P(C,C)=P(G,G)=1/4*1/4=1/16\n",
    "Donc la proba d'avoir un score de 1 est de 4 * 1/16 = 1/4, c'est le score moyen pour une position.\n",
    "Donc le score moyen total est égale à N/4.\n",
    "```"
   ]
  },
  {
   "cell_type": "markdown",
   "metadata": {
    "id": "fP5_mHnYMkNI"
   },
   "source": [
    "Q2. La question précédente peut se resoudre analytiquement car on ne considère pas de trou. Pour étendre le résultat precedent à un alignement avec trous, on va se baser sur la simulation de séquences aleatoires.\n",
    "\n",
    "Générez $R$ paires de séquences aléatoires  de tailles $N$ avec des probabilitées uniformes d'apparition de nucléotides $p_A = p_T = p_G = p_C = $ ¼. Affichez sous forme de violinplots les distribution des scores d'alignements entre chaque paire, obtenu par :\n",
    "  1. un alignement sans trou (cf. Q1) ;\n",
    "  2. un alignement local via Smith-Waterman (utilisez le code de l'exercice précédent)\n",
    "\n",
    "Utilisez le schéma d'évaluation suivant :"
   ]
  },
  {
   "cell_type": "code",
   "execution_count": 26,
   "metadata": {
    "id": "akUVqotnOLkH"
   },
   "outputs": [],
   "source": [
    "rmap = {\"A\": 0, \"T\": 1, \"G\": 2, \"C\": 3}\n",
    "sigma = np.array([[1, -0.5, -0.5, -0.5],\n",
    "                  [-0.5, 1, -0.5, -0.5],\n",
    "                  [-0.5, -0.5, 1, -0.5],\n",
    "                  [-0.5, -0.5, -0.5, 1]])\n",
    "go =0\n",
    "ge = 0.5"
   ]
  },
  {
   "cell_type": "code",
   "execution_count": 30,
   "metadata": {
    "id": "UX0afNaqOVZ2"
   },
   "outputs": [
    {
     "data": {
      "image/png": "[encoded data removed]",
      "text/plain": [
       "<Figure size 1000x500 with 1 Axes>"
      ]
     },
     "metadata": {},
     "output_type": "display_data"
    }
   ],
   "source": [
    "import matplotlib.pyplot as plt\n",
    "import seaborn as sns\n",
    "\n",
    "R = 10\n",
    "N = 10\n",
    "\n",
    "nucl = ['A', 'T', 'G', 'C']\n",
    "probs = [0.25, 0.25, 0.25, 0.25]\n",
    "\n",
    "def generateRandomSequences(R, N):\n",
    "    return [(''.join(np.random.choice(nucl, N, p=probs)), ''.join(np.random.choice(nucl, N, p=probs))) for i in range(R)]\n",
    "\n",
    "def scoreNoGap(x,y):\n",
    "    return sum(1 for a, b in zip(x,y) if a == b)\n",
    "\n",
    "rand = generateRandomSequences(R, N)\n",
    "nogap = [scoreNoGap(x,y) for x,y in rand]\n",
    "\n",
    "scores = []\n",
    "for x,y in rand:\n",
    "    S, B, _ = sw_fwd(x,y, rmap, sigma, go, ge)\n",
    "    _, _, score = sw_bwd(x,y, S, B)\n",
    "    scores.append(score)\n",
    "\n",
    "plt.figure(figsize=(10, 5))\n",
    "sns.violinplot(data=[nogap, scores], inner='box')\n",
    "plt.xticks([0, 1], ['No Gap', 'Smith-Waterman'])\n",
    "plt.ylabel(\"Score d'alignement\")\n",
    "plt.title(\"Distribution des scores d'alignement pour des séquences aléatoires\")\n",
    "plt.show()"
   ]
  },
  {
   "cell_type": "markdown",
   "metadata": {
    "id": "UNn9fUuXO4Le"
   },
   "source": [
    "Q3. Qu'observez-vous ?"
   ]
  },
  {
   "cell_type": "markdown",
   "metadata": {
    "id": "dSQEl0XXO8IG"
   },
   "source": [
    "```markdown\n",
    "Le score d'alignement semble plus élevé avec l'alignement Smith-Waterman.\n",
    "```"
   ]
  },
  {
   "cell_type": "markdown",
   "metadata": {
    "id": "xHfVXpQhf15n"
   },
   "source": [
    "Q4. Quelle conclusion peut-on en tirer sur la significativité d'un alignement ?"
   ]
  },
  {
   "cell_type": "markdown",
   "metadata": {
    "id": "5KjhEeHDgDns"
   },
   "source": [
    "```markdown\n",
    "Plus le score d'un alignement est élevé plus la correspondance est proche, et l'alignement Smith-Waterman compare de manière plus pertinentes les données car il se focalise sur les parties les plus similaires.\n",
    "```"
   ]
  }
 ],
 "metadata": {
  "colab": {
   "authorship_tag": "ABX9TyNSXnqaXAUgZK9rmJ1TWbGo",
   "provenance": []
  },
  "kernelspec": {
   "display_name": "Python 3 (ipykernel)",
   "language": "python",
   "name": "python3"
  },
  "language_info": {
   "codemirror_mode": {
    "name": "ipython",
    "version": 3
   },
   "file_extension": ".py",
   "mimetype": "text/x-python",
   "name": "python",
   "nbconvert_exporter": "python",
   "pygments_lexer": "ipython3",
   "version": "3.11.2"
  }
 },
 "nbformat": 4,
 "nbformat_minor": 1
}
